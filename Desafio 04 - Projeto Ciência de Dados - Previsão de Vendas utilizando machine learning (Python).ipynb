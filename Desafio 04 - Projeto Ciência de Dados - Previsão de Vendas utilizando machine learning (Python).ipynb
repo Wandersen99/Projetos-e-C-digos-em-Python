{
 "cells": [
  {
   "cell_type": "markdown",
   "id": "fd97b2e2",
   "metadata": {},
   "source": [
    "Desafio 04 - Consiste em analisar uma tabela com dados sobre vendas e realizar uma previsão de vendas a partir de novos dados utilizando machine learning com python.\n",
    "\n",
    "    - Para isso, o primeiro passo é entender o desafio e o segundo passo é entender a área, o nicho que se vai trabalhar e realizar a previsão, para saber o nível de confiança necessário para a previsão de acordo com área de atuação. \n",
    "    \n",
    "- Nosso desafio é conseguir prever as vendas que vamos ter em determinado período com base nos gastos em anúncios nas 3 grandes redes que a empresa Hashtag investe: TV, Jornal e Rádio.\n",
    "- TV, Jornal e Rádio estão em milhares de reais;\n",
    "- Vendas estão em milhões."
   ]
  },
  {
   "cell_type": "code",
   "execution_count": null,
   "id": "0a4a13b2",
   "metadata": {},
   "outputs": [],
   "source": [
    "#Antes de iniciar, é necessário instalar algumas bibliotecas que vão ser utilizadas para esse projeto.\n",
    "\n",
    "!pip install matplotlib\n",
    "!pip install seaborn\n",
    "!pip install scikit-learn"
   ]
  },
  {
   "cell_type": "code",
   "execution_count": null,
   "id": "607b8818",
   "metadata": {},
   "outputs": [],
   "source": [
    "#Passo 03 - Importar a base de dados que vai se trabalhar \n",
    "\n",
    "import pandas as pd \n",
    "\n",
    "tabela = pd.read_csv(\"advertising.csv\")\n",
    "display(tabela)\n",
    "\n",
    "# Para ver se os tipos de dados estão corretos, se alguma coluna ou linha contém dados que não serão utéis para a análise, utilizar esse comando: print(tabela.info())\n",
    "# Depois de verificar se tudo está correto: Continuar, se algo estiver errado, tratar os dados e depois continuar;"
   ]
  },
  {
   "cell_type": "code",
   "execution_count": null,
   "id": "f098d52e",
   "metadata": {},
   "outputs": [],
   "source": [
    "#Passo 04 - Análise exploratória(explorar a base de dados de forma eficiente); \n",
    "#Realizar a correlação entre todos os itens;\n",
    "\n",
    "display(tabela.corr())\n"
   ]
  },
  {
   "cell_type": "code",
   "execution_count": null,
   "id": "a4e9eba9",
   "metadata": {},
   "outputs": [],
   "source": [
    "#Para uma melhor visualização desses dados, vamos colocar essa tabela da correlação em formato de gráfico;\n",
    "\n",
    "import seaborn as sns \n",
    "import matplotlib.pyplot as plt\n",
    "\n",
    "# 2 etapas são necessárias para criar o gráfico, a 01 - Criação do Gráfico e a 02 - Exibir o Gráfico \n",
    "\n",
    "#01 - Criar o gráfico de calor\n",
    "\n",
    "sns.heatmap(tabela.corr(), cmap =\"Blues\",annot=True)\n",
    "\n",
    "#02 - Exibir o gráfico de calor \n",
    "\n",
    "plt.show()\n",
    "\n",
    "#01 - Criar o gráfico de dispersão\n",
    "sns.pairplot(tabela)\n",
    "\n",
    "#02 - Exibir o gráfico de dispersão\n",
    "plt.show()\n"
   ]
  },
  {
   "cell_type": "code",
   "execution_count": null,
   "id": "a4b7f575",
   "metadata": {},
   "outputs": [],
   "source": [
    "#Passo 05 - Modelagem dos dados\n",
    "\n",
    "from sklearn.model_selection import train_test_split \n",
    "\n",
    "#Definição das colunas da tabela que serão usadas para prever a coluna vendas\n",
    "x = tabela.drop(\"Vendas\",axis=1)\n",
    "\n",
    "#A coluna que será prevista\n",
    "y = tabela[\"Vendas\"]\n",
    "\n",
    "#Separação dos dados da tabela em 2, dados de treino e dados de teste, para fornecer aos modelos de IA;\n",
    "\n",
    "x_treino, x_teste, y_treino, y_teste = train_test_split(x,y,test_size=0.25,random_state=1)\n",
    "\n",
    "# Para criar a IA, é necessário 3 etapas: Importar, Criar e Treinar\n",
    "\n",
    "#Etapa 01 - importar \n",
    "\n",
    "from sklearn.linear_model import LinearRegression\n",
    "from sklearn.ensemble import RandomForestRegressor \n",
    "from sklearn import metrics  \n",
    "from sklearn.metrics import r2_score\n",
    "import numpy as np \n",
    "\n",
    "#Etapa02 - Criar \n",
    "\n",
    "mod_reg_linear = LinearRegression()\n",
    "mod_reg_random = RandomForestRegressor()\n",
    "\n",
    "#Etapa 03 - Treina-las \n",
    "\n",
    "mod_reg_linear.fit(x_treino,y_treino)\n",
    "mod_reg_random.fit(x_treino,y_treino)\n",
    "\n",
    "#Depois de treinar os 2 modelos com os dados de treino, vamos atribuir agora a variaveis os dados de teste;\n",
    "\n",
    "previsao_reg_linear= mod_reg_linear.predict(x_teste)\n",
    "previsao_reg_random= mod_reg_random.predict(x_teste)\n",
    "\n",
    "print(r2_score(y_teste,previsao_reg_linear ))\n",
    "print(r2_score(y_teste,previsao_reg_random))"
   ]
  },
  {
   "cell_type": "code",
   "execution_count": null,
   "id": "b4e886e6",
   "metadata": {},
   "outputs": [],
   "source": [
    "#Parte 06 - Entender o projeto e o quanto de % de confiança esta bom para o projeto:\n",
    "# Interpretação dos Resultados\n",
    "\n",
    "tabela_auxiliar = pd.DataFrame()\n",
    "tabela_auxiliar['y_teste']= y_teste\n",
    "\n",
    "tabela_auxiliar['Previsão Regressão Linear'] = previsao_reg_linear\n",
    "tabela_auxiliar['Previsão Árvore de Decisão'] = previsao_reg_random\n",
    "tabela_auxiliar = tabela_auxiliar.reset_index(drop=True)\n",
    "display(tabela_auxiliar)\n",
    "\n",
    "#Para visualizar melhor esses dados para interpretação dos resultados, vamos criar um gráfico:\n",
    "\n",
    "plt.figure(figsize=(15,5))\n",
    "sns.lineplot(data=tabela_auxiliar)\n",
    "plt.show()\n",
    "\n",
    "\n",
    "\n",
    "importancia_features = pd.DataFrame(mod_reg_random.feature_importances_, x_treino.columns)\n",
    "plt.figure(figsize=(5,5))\n",
    "sns.barplot(x=importancia_features.index, y= importancia_features[0])\n",
    "plt.show()\n"
   ]
  },
  {
   "cell_type": "markdown",
   "id": "d094a250",
   "metadata": {},
   "source": [
    "Para o modelo de árvore de decisão, em termos de importância: o investimento em TV é 85% relevante para vendas, o investimento em rádio 10% e o investimento em jornal 2~3%;"
   ]
  },
  {
   "cell_type": "code",
   "execution_count": null,
   "id": "900fae67",
   "metadata": {},
   "outputs": [],
   "source": [
    "#Como Realizar uma nova previsão:\n",
    "\n",
    "tabela_nova = pd.read_csv(\"novos.csv\")\n",
    "display(tabela_nova)"
   ]
  },
  {
   "cell_type": "code",
   "execution_count": null,
   "id": "f3c39871",
   "metadata": {},
   "outputs": [],
   "source": [
    "previsao = mod_reg_random.predict(tabela_nova)\n",
    "print(previsao)"
   ]
  },
  {
   "cell_type": "markdown",
   "id": "5673e94c",
   "metadata": {},
   "source": [
    "Isso quer dizer que a partir da linha 0, teriamos uma previsão de vendas de R$7.921.000 reais;\n",
    "-A partir da linha 1, teriamos uma previsão de vendas de R$8.631.000 reais;\n",
    "-A partir da linha 2, teriamos uma previsão de vendas de R$19.871.000 reais;"
   ]
  }
 ],
 "metadata": {
  "kernelspec": {
   "display_name": "Python 3 (ipykernel)",
   "language": "python",
   "name": "python3"
  },
  "language_info": {
   "codemirror_mode": {
    "name": "ipython",
    "version": 3
   },
   "file_extension": ".py",
   "mimetype": "text/x-python",
   "name": "python",
   "nbconvert_exporter": "python",
   "pygments_lexer": "ipython3",
   "version": "3.9.12"
  }
 },
 "nbformat": 4,
 "nbformat_minor": 5
}
