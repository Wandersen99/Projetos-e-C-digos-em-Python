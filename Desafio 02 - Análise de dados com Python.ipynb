{
 "cells": [
  {
   "cell_type": "markdown",
   "id": "ce18717a",
   "metadata": {},
   "source": [
    "# Desafio Aula 02 - Análise de dados com Python\n",
    "\n",
    "Você trabalha em uma empresa de telecom e tem clientes de vários serviços diferentes, entre os principais: internet e telefone.\n",
    "\n",
    "O problema é que, analisando o histórico dos clientes dos últimos anos, você percebeu que a empresa está com Churn de mais de 26% dos clientes.\n",
    "\n",
    "Isso representa uma perda de milhões para a empresa.\n",
    "\n",
    "O que a empresa precisa fazer para resolver isso?\n",
    "\n"
   ]
  },
  {
   "cell_type": "code",
   "execution_count": null,
   "id": "bacc7dfd",
   "metadata": {},
   "outputs": [],
   "source": [
    "#Primeiro passo: Importar a base de dados da empresa que nesse caso é uma tabela em csv.\n",
    "\n",
    "import pandas as pd \n",
    "\n",
    "tabela = pd.read_csv(\"telecom_users.csv\")\n",
    "display(tabela)\n",
    "\n",
    "#Segundo passo: Visualizar a base de dados e entender quais os dados relevantes e não relevantes para a análise\n",
    "\n",
    "tabela= tabela.drop (\"Unnamed: 0\",axis=1)\n",
    "#Por a coluna \"Unnamed: 0\" não possuir nome e portanto, não consigo afirmar quais os dados que estavam inseridos nessa\n",
    "#coluna, foi definido excluir essa coluna inteira.\n",
    "\n",
    "display(tabela)\n"
   ]
  },
  {
   "cell_type": "code",
   "execution_count": null,
   "id": "976bbf93",
   "metadata": {},
   "outputs": [],
   "source": [
    "#Terceiro passo: É realizar o tratamento de dados. \n",
    "# É preciso ver observar na tabela se os tipos de dados associados aos dados estão corretos\n",
    "# É necessário também, verificar se existem colunas vazias e linhas vazias que podem ser descartadas para a análise\n",
    "#Assim como, procurar se existem valores vazios inseridos;\n",
    "\n",
    "print(tabela.info())\n"
   ]
  },
  {
   "cell_type": "markdown",
   "id": "1ea9ba0c",
   "metadata": {},
   "source": [
    "A partir da visualização da tabela com as colunas e tipos de dados, é possível verificar que a coluna número 19 TotalGasto, o tipo de dado dela está como object(texto), porém o tipo de dado correto que deveria ser atribuido a ele é o tipo float64, pois os dados inseridos nessa coluna são números e com casas decimais. \n",
    " É possível verificar também a existência da coluna 21 Codigo, em que todos os dados inseridos na coluna são nulos, então é necessário excluir essa coluna por inteiro."
   ]
  },
  {
   "cell_type": "code",
   "execution_count": null,
   "id": "5a8dd487",
   "metadata": {},
   "outputs": [],
   "source": [
    "#Etapa01: Mudar o tipo de dado relacionado a coluna 19 Total Gasto;\n",
    "#Etapa02: Excluir a coluna 21 Codigo, por inteiro;\n",
    "\n",
    "tabela[\"TotalGasto\"]=pd.to_numeric(tabela[\"TotalGasto\"],errors=\"coerce\")\n",
    "\n",
    "tabela=tabela.dropna(how=\"all\",axis=1)\n",
    "#Esse comando vai excluir/largar, a coluna que tiver todos os dados nulos inseridos nela;\n",
    "\n",
    "tabela=tabela.dropna(how=\"any\",axis=0)\n",
    "#Esse comando vai excluir, a linha que tiver pelo menos um dado nulo,vazio. Se a linha tiver um dado faltando, vai ser excluída.\n",
    "\n",
    "print(tabela.info())\n"
   ]
  },
  {
   "cell_type": "code",
   "execution_count": null,
   "id": "fd241218",
   "metadata": {},
   "outputs": [],
   "source": [
    "#Tratamento dos dados feitos, agora é hora de realizar a análise inicial. \n",
    "#Para responder a pergunta, porque 26% dos clientes estão cancelando o serviço de assinatura, é necessário analisar a coluna\n",
    "#Churn\n",
    "\n",
    "print(tabela[\"Churn\"].value_counts())\n",
    "\n",
    "print(tabela[\"Churn\"].value_counts(normalize=True).map(\"{:.1%}\".format))"
   ]
  },
  {
   "cell_type": "markdown",
   "id": "8d816158",
   "metadata": {},
   "source": [
    "Então, com essa informação, temos que 26.6% dos clientes estão cancelando as assinaturas de fato e 73.4% estão com as assinaturas ainda ativas, a partir da base de dados que tivemos acesso. "
   ]
  },
  {
   "cell_type": "code",
   "execution_count": null,
   "id": "94abf3d5",
   "metadata": {},
   "outputs": [],
   "source": [
    "#Passo 05: Realizar a análise completa, como cada coluna da nossa base de dados pode impactar na coluna Churn. \n",
    "#Para isso, vamos criar gráficos para uma melhor visualização dessas comparações\n",
    "#Antes dos gráficos, vamos instalar a biblioteca que usaremos para construir os gráficos.\n",
    "\n",
    "!pip install plotly"
   ]
  },
  {
   "cell_type": "code",
   "execution_count": null,
   "id": "2f50f9b5",
   "metadata": {},
   "outputs": [],
   "source": [
    "#Importar a biblioteca \n",
    "\n",
    "import plotly.express as px \n",
    "\n",
    "#Os gráficos são construídos em 2 etapas.\n",
    "#Etapa01: Construção do gráfico \n",
    "\n",
    "#grafico=px.histogram(tabela,x=\"coluna\",color=\"Churn\",text_auto=True)\n",
    "\n",
    "#Etapa02: Visualizar o gráfico\n",
    "#grafico.show()\n",
    "\n",
    "#Como é necessário comparar cada coluna da nossa base de dados com a coluna, Churn, vamos usar um laço de repetição For. Para isso.\n",
    "\n",
    "for coluna in tabela.columns: \n",
    "    if coluna!=\"Churn\"and coluna!=\"IDCliente\":\n",
    "        grafico=px.histogram(tabela,x=coluna,color=\"Churn\",text_auto=True)\n",
    "        grafico.show()\n",
    "#Se quiser por uma tabela no final de cada gráfico, relacionando com o IDCliente:\n",
    "        display(tabela.pivot_table(index=\"Churn\",columns=coluna,aggfunc=\"count\")[\"IDCliente\"])"
   ]
  },
  {
   "cell_type": "markdown",
   "id": "7cff8686",
   "metadata": {},
   "source": [
    "#### Considerações finais/Análise completa com sugestões do que fazer:\n",
    " A chance do cliente cancelar nos primeiros meses é muito alta:\n",
    " - isso pode significar que a empresa tá deixando de ofertar alguma promoção que segure o cliente nos primeiros meses ou a primeira experiência do cliente está sendo ruim com a empresa;\n",
    "   - Uma sugestão: Ofertar descontos nos primeiros/dar bônus aos clientes nos primeiros meses e melhorar o setor de atendimento ao cliente;\n",
    " Clientes com familias maiores, tendem a cancelar menos;\n",
    "  - Uma sugestão: Oferecer uma 2° linha de graça ou com desconto; \n",
    " Esta acontecendo algum problema no serviço de fibra, pois a taxa de cancelamento tá muito alta;\n",
    " Quanto mais serviços o cliente tem, menor a chance dele cancelar;\n",
    "  -  Sugestão: Oferecer serviços de bônus ou com descontos;\n",
    "\tOferecer desconto para pagamento anual, pois quase todos os cancelamentos estão no plano mensal;\n",
    "\tBoleto tem muito mais cancelamento do que as outras formas de pagamento;\n",
    "- Sugestão: Ofertar desconto nas outras formas de pagamento;"
   ]
  }
 ],
 "metadata": {
  "kernelspec": {
   "display_name": "Python 3 (ipykernel)",
   "language": "python",
   "name": "python3"
  },
  "language_info": {
   "codemirror_mode": {
    "name": "ipython",
    "version": 3
   },
   "file_extension": ".py",
   "mimetype": "text/x-python",
   "name": "python",
   "nbconvert_exporter": "python",
   "pygments_lexer": "ipython3",
   "version": "3.9.12"
  }
 },
 "nbformat": 4,
 "nbformat_minor": 5
}
