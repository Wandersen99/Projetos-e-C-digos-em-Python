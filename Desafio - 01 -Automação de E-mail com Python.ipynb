{
 "cells": [
  {
   "cell_type": "markdown",
   "id": "206cd6d5",
   "metadata": {},
   "source": [
    "Desafio 01 - Intensivão Hashtag programação - Python "
   ]
  },
  {
   "cell_type": "markdown",
   "id": "33c814fc",
   "metadata": {},
   "source": [
    "Automação de envio de email com o relatório de vendas.\n",
    "\n",
    "Todos os dias, o nosso sistema atualiza as vendas do dia anterior.\n",
    "O seu trabalho diário, como analista, é enviar um e-mail para a diretoria, assim que começar a trabalhar, com o faturamento e a quantidade de produtos vendidos no dia anterior\n",
    "\n",
    "E-mail da diretoria: seugmail+diretoria@gmail.com<br>\n",
    "\n",
    "Para resolver isso, vamos usar o pyautogui, uma biblioteca de automação de comandos do mouse e do teclado."
   ]
  },
  {
   "cell_type": "code",
   "execution_count": null,
   "id": "bf7e9281",
   "metadata": {},
   "outputs": [],
   "source": [
    "!pip install pyautogui "
   ]
  },
  {
   "cell_type": "code",
   "execution_count": null,
   "id": "ae6c34cf",
   "metadata": {},
   "outputs": [],
   "source": [
    "!pip install opencv-python"
   ]
  },
  {
   "cell_type": "code",
   "execution_count": null,
   "id": "5bbbccfd",
   "metadata": {},
   "outputs": [],
   "source": [
    "!pip3 install opencv-python"
   ]
  },
  {
   "cell_type": "code",
   "execution_count": null,
   "id": "7f43a211",
   "metadata": {},
   "outputs": [],
   "source": [
    "import pyautogui\n",
    "import time \n",
    "import pandas as pd \n",
    "import pyperclip \n",
    "\n",
    "pyautogui.PAUSE=1\n",
    "\n",
    "#Abrir o navegador chrome\n",
    "\n",
    "pyautogui.press(\"winleft\")\n",
    "pyautogui.write(\"chrome\")\n",
    "pyautogui.press(\"enter\")\n",
    "# se quiser criar um alerta na tela antes de iniciar o processo: pyautogui.alert(\"Vai começar, aperte OK e não mexa em nada\")\n",
    "time.sleep(2)"
   ]
  },
  {
   "cell_type": "code",
   "execution_count": null,
   "id": "24e76925",
   "metadata": {
    "scrolled": true
   },
   "outputs": [],
   "source": [
    "#Digitar o link do drive no navegador e abrir o link\n",
    "\n",
    "link= \"https://drive.google.com/drive/folders/149xknr9JvrlEnhNWO49zPcw0PW5icxga\"\n",
    "pyperclip.copy(link)\n",
    "pyautogui.hotkey(\"ctrl\",\"v\")\n",
    "time.sleep(1)\n",
    "pyautogui.press(\"enter\")\n",
    "\n",
    "while not pyautogui.locateOnScreen(\"imagem.png\"):\n",
    "    time.sleep(1)\n",
    "    \n",
    "time.sleep(1)"
   ]
  },
  {
   "cell_type": "code",
   "execution_count": null,
   "id": "b7890e99",
   "metadata": {},
   "outputs": [],
   "source": [
    "#Abrir a pasta e baixar o arquivo\n",
    "\n",
    "pyautogui.click(x=380,y=262,clicks=2)\n",
    "time.sleep(2)\n",
    "pyautogui.click(x=376, y=348)\n",
    "pyautogui.click(x=1160, y=157)\n",
    "pyautogui.click(x=880, y=595)\n",
    "time.sleep(5)\n"
   ]
  },
  {
   "cell_type": "code",
   "execution_count": null,
   "id": "a1ad7740",
   "metadata": {
    "scrolled": true
   },
   "outputs": [],
   "source": [
    "#Criar a variável para armazenar as informações da tabela e mostrar a tabela, depois criar as variavéis que vão armazenar os valores dos indicadores que eu desejo.\n",
    "\n",
    "tabela=pd.read_excel(r\"C:/Users/wande/Downloads/Vendas - Dez.xlsx\")\n",
    "display(tabela)\n",
    "\n",
    "faturamento=tabela[\"Valor Final\"].sum()\n",
    "print(faturamento)\n",
    "qt=tabela[\"Quantidade\"].sum()\n",
    "print(qt)\n"
   ]
  },
  {
   "cell_type": "code",
   "execution_count": null,
   "id": "91740279",
   "metadata": {},
   "outputs": [],
   "source": [
    "#Abrir o gmail e enviar o email \n",
    "\n",
    "link2=\"https://mail.google.com/mail/u/0/#inbox\"\n",
    "\n",
    "pyautogui.hotkey(\"ctrl\",\"t\")\n",
    "pyperclip.copy(link2)\n",
    "pyautogui.hotkey(\"ctrl\",\"v\")\n",
    "pyautogui.press(\"enter\")\n",
    "time.sleep(6)\n",
    "\n",
    "pyautogui.click(x=72, y=170)\n",
    "pyautogui.click(x=1344, y=699)\n",
    "pyautogui.click(x=1220, y=306)\n",
    "\n",
    "\n",
    "destinatario=\"pythonimpressionador+diretoria@gmail.com\"\n",
    "pyperclip.copy(destinatario)\n",
    "pyautogui.hotkey(\"ctrl\",\"v\")\n",
    "pyautogui.press(\"tab\")\n",
    "\n",
    "assunto=\"Relatório de vendas\"\n",
    "pyperclip.copy(assunto)\n",
    "pyautogui.hotkey(\"ctrl\",\"v\")\n",
    "pyautogui.press(\"tab\")\n",
    "\n",
    "time.sleep(1)\n",
    "\n",
    "texto= f\"\"\"\n",
    "    Prezados, boa tarde.\n",
    "\n",
    "    Segue o Relatório de vendas com um faturamento de:R$ {faturamento:,.2f}\n",
    "    E uma quantidade de produtos vendidos de: {qt:,}\n",
    "\n",
    "        Att Wandersen Alves\"\"\"\n",
    "\n",
    "pyperclip.copy(texto)\n",
    "pyautogui.hotkey(\"ctrl\",\"v\")\n",
    "\n",
    "#anexar um arquivo \n",
    "\n",
    "arquivo = r\"Vendas - Dez.xlsx\"\n",
    "pyautogui.click(x=968, y=695)\n",
    "time.sleep(2)\n",
    "pyperclip.copy(arquivo)\n",
    "pyautogui.hotkey(\"ctrl\",\"v\")\n",
    "pyautogui.press(\"enter\")\n",
    "\n",
    "time.sleep(2)\n",
    "pyautogui.hotkey(\"ctrl\",\"enter\")\n",
    "\n"
   ]
  },
  {
   "cell_type": "code",
   "execution_count": null,
   "id": "68d972eb",
   "metadata": {},
   "outputs": [],
   "source": [
    "#Pegar a posição do mouse na tela \n",
    "time.sleep(6)\n",
    "pyautogui.position()"
   ]
  },
  {
   "cell_type": "code",
   "execution_count": null,
   "id": "b6e523ff",
   "metadata": {},
   "outputs": [],
   "source": []
  }
 ],
 "metadata": {
  "kernelspec": {
   "display_name": "Python 3 (ipykernel)",
   "language": "python",
   "name": "python3"
  },
  "language_info": {
   "codemirror_mode": {
    "name": "ipython",
    "version": 3
   },
   "file_extension": ".py",
   "mimetype": "text/x-python",
   "name": "python",
   "nbconvert_exporter": "python",
   "pygments_lexer": "ipython3",
   "version": "3.9.12"
  }
 },
 "nbformat": 4,
 "nbformat_minor": 5
}
